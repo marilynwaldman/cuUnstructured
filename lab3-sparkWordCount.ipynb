{
 "cells": [
  {
   "cell_type": "code",
   "execution_count": 1,
   "metadata": {
    "collapsed": false
   },
   "outputs": [
    {
     "data": {
      "text/plain": [
       "[534, 178, 109, 616, 842]"
      ]
     },
     "execution_count": 1,
     "metadata": {},
     "output_type": "execute_result"
    }
   ],
   "source": [
    "import pyspark\n",
    "sc = pyspark.SparkContext('local[*]')\n",
    "\n",
    "# do something to prove it worksC\n",
    "rdd = sc.parallelize(range(1000))\n",
    "rdd.takeSample(False, 5)\n",
    "\n"
   ]
  },
  {
   "cell_type": "markdown",
   "metadata": {},
   "source": [
    "# Word Count"
   ]
  },
  {
   "cell_type": "markdown",
   "metadata": {},
   "source": [
    "## Spark"
   ]
  },
  {
   "cell_type": "code",
   "execution_count": 3,
   "metadata": {
    "collapsed": false
   },
   "outputs": [
    {
     "data": {
      "text/plain": [
       "['\\tHAMLET', '', '', '\\tDRAMATIS PERSONAE', '']"
      ]
     },
     "execution_count": 3,
     "metadata": {},
     "output_type": "execute_result"
    }
   ],
   "source": [
    "#Create an rdd by reading a file\n",
    "lines = sc.textFile('hamlet.txt')\n",
    "lines.take(5)"
   ]
  },
  {
   "cell_type": "markdown",
   "metadata": {},
   "source": [
    "##Using Regular Expression\n",
    "\n",
    "re.split('\\W+', 'Dogs, cats, birds.')\n",
    "['Dogs', 'cats', 'birds', '']"
   ]
  },
  {
   "cell_type": "code",
   "execution_count": 4,
   "metadata": {
    "collapsed": false
   },
   "outputs": [
    {
     "data": {
      "text/plain": [
       "['hamlet', '', '', 'dramatis', 'personae']"
      ]
     },
     "execution_count": 4,
     "metadata": {},
     "output_type": "execute_result"
    }
   ],
   "source": [
    "#import the regular expression library\n",
    "import re\n",
    "hamlet = lines.flatMap(lambda line: re.split('\\W+', line.lower().strip()))\n",
    "hamlet.take(5)"
   ]
  },
  {
   "cell_type": "code",
   "execution_count": 5,
   "metadata": {
    "collapsed": false
   },
   "outputs": [
    {
     "ename": "SyntaxError",
     "evalue": "invalid syntax (<ipython-input-5-4c29bcca3dba>, line 2)",
     "output_type": "error",
     "traceback": [
      "\u001b[0;36m  File \u001b[0;32m\"<ipython-input-5-4c29bcca3dba>\"\u001b[0;36m, line \u001b[0;32m2\u001b[0m\n\u001b[0;31m    print hamlet.take(5)\u001b[0m\n\u001b[0m               ^\u001b[0m\n\u001b[0;31mSyntaxError\u001b[0m\u001b[0;31m:\u001b[0m invalid syntax\n"
     ]
    }
   ],
   "source": [
    "hamlet = hamlet.filter(lambda x: len(x) > 2 )\n",
    "print hamlet.take(5)"
   ]
  },
  {
   "cell_type": "code",
   "execution_count": 6,
   "metadata": {
    "collapsed": false
   },
   "outputs": [
    {
     "data": {
      "text/plain": [
       "[('hamlet', 1), ('', 1), ('', 1), ('dramatis', 1), ('personae', 1)]"
      ]
     },
     "execution_count": 6,
     "metadata": {},
     "output_type": "execute_result"
    }
   ],
   "source": [
    "hamletTuple = hamlet.map(lambda word: (word, 1))\n",
    "hamletTuple.take(5)"
   ]
  },
  {
   "cell_type": "code",
   "execution_count": 7,
   "metadata": {
    "collapsed": false
   },
   "outputs": [
    {
     "data": {
      "text/plain": [
       "[('', 4324), ('claudius', 102), ('face', 10), ('heedful', 1), ('devotion', 1)]"
      ]
     },
     "execution_count": 7,
     "metadata": {},
     "output_type": "execute_result"
    }
   ],
   "source": [
    "hamletWordCount = hamletTuple.reduceByKey(lambda a, b: a + b)\n",
    "hamletWordCount.take(5)"
   ]
  },
  {
   "cell_type": "markdown",
   "metadata": {},
   "source": [
    "sortByKey([ascending], [numTasks])\tWhen called on a dataset of (K, V) pairs where K implements Ordered, returns a dataset of (K, V) pairs sorted by keys in ascending or descending order, as specified in the boolean ascending argument."
   ]
  },
  {
   "cell_type": "code",
   "execution_count": 8,
   "metadata": {
    "collapsed": false
   },
   "outputs": [
    {
     "data": {
      "text/plain": [
       "[(4324, ''),\n",
       " (930, 'the'),\n",
       " (843, 'and'),\n",
       " (652, 'to'),\n",
       " (562, 'of'),\n",
       " (517, 'i'),\n",
       " (496, 'you'),\n",
       " (450, 'a'),\n",
       " (439, 'my'),\n",
       " (378, 'in'),\n",
       " (368, 'hamlet'),\n",
       " (346, 'that'),\n",
       " (343, 'it'),\n",
       " (280, 'is'),\n",
       " (278, 'lord'),\n",
       " (262, 'not'),\n",
       " (238, 'this'),\n",
       " (238, 'his'),\n",
       " (232, 'with'),\n",
       " (232, 'but')]"
      ]
     },
     "execution_count": 8,
     "metadata": {},
     "output_type": "execute_result"
    }
   ],
   "source": [
    "decending = hamletWordCount.map(lambda x: (x[1], x[0])).sortByKey(False)\n",
    "decending.take(20)"
   ]
  },
  {
   "cell_type": "code",
   "execution_count": 9,
   "metadata": {
    "collapsed": false
   },
   "outputs": [
    {
     "data": {
      "text/plain": [
       "[('', 4324),\n",
       " ('the', 930),\n",
       " ('and', 843),\n",
       " ('to', 652),\n",
       " ('of', 562),\n",
       " ('i', 517),\n",
       " ('you', 496),\n",
       " ('a', 450),\n",
       " ('my', 439),\n",
       " ('in', 378),\n",
       " ('hamlet', 368),\n",
       " ('that', 346),\n",
       " ('it', 343),\n",
       " ('is', 280),\n",
       " ('lord', 278),\n",
       " ('not', 262),\n",
       " ('this', 238),\n",
       " ('his', 238),\n",
       " ('with', 232),\n",
       " ('but', 232)]"
      ]
     },
     "execution_count": 9,
     "metadata": {},
     "output_type": "execute_result"
    }
   ],
   "source": [
    "tmp = decending.map(lambda x: (x[1], x[0]))\n",
    "tmp.take(20)"
   ]
  },
  {
   "cell_type": "code",
   "execution_count": 22,
   "metadata": {
    "collapsed": false
   },
   "outputs": [],
   "source": [
    "%matplotlib inline\n",
    "import matplotlib.pyplot as plt\n",
    "\n",
    "def plot(words):\n",
    "    values = list(map(lambda x: x[1], words))\n",
    "    labels = list(map(lambda x: x[0], words))\n",
    "    plt.barh(range(len(values)), values, color='grey')\n",
    "    plt.yticks(range(len(values)), labels)\n",
    "    plt.show()"
   ]
  },
  {
   "cell_type": "code",
   "execution_count": 23,
   "metadata": {
    "collapsed": false
   },
   "outputs": [
    {
     "data": {
      "image/png": "[encoded data removed]",
      "text/plain": [
       "<matplotlib.figure.Figure at 0x7ff728f3d438>"
      ]
     },
     "metadata": {},
     "output_type": "display_data"
    }
   ],
   "source": [
    "plot(tmp.take(15))"
   ]
  },
  {
   "cell_type": "markdown",
   "metadata": {},
   "source": [
    "## Summary code"
   ]
  },
  {
   "cell_type": "code",
   "execution_count": 24,
   "metadata": {
    "collapsed": false
   },
   "outputs": [
    {
     "data": {
      "text/plain": [
       "[(930, 'the'),\n",
       " (843, 'and'),\n",
       " (496, 'you'),\n",
       " (368, 'hamlet'),\n",
       " (346, 'that'),\n",
       " (278, 'lord'),\n",
       " (262, 'not'),\n",
       " (238, 'this'),\n",
       " (238, 'his'),\n",
       " (232, 'with'),\n",
       " (232, 'but'),\n",
       " (215, 'for'),\n",
       " (211, 'your'),\n",
       " (186, 'what'),\n",
       " (171, 'king')]"
      ]
     },
     "execution_count": 24,
     "metadata": {},
     "output_type": "execute_result"
    }
   ],
   "source": [
    "words = sc.textFile('hamlet.txt')\\\n",
    "        .flatMap(lambda line: re.split('\\W+', line.lower().strip()))\\\n",
    "        .filter(lambda x: len(x) > 2 )\\\n",
    "        .map(lambda word: (word, 1))\\\n",
    "        .reduceByKey(lambda a, b: a + b)\\\n",
    "        .map(lambda x: (x[1], x[0])).sortByKey(False)   \n",
    "\n",
    "words.take(15)"
   ]
  },
  {
   "cell_type": "markdown",
   "metadata": {},
   "source": [
    "## Text filtering"
   ]
  },
  {
   "cell_type": "code",
   "execution_count": 25,
   "metadata": {
    "collapsed": false
   },
   "outputs": [],
   "source": [
    "words = sc.textFile('hamlet.txt')"
   ]
  },
  {
   "cell_type": "markdown",
   "metadata": {},
   "source": [
    "How many lines contains <em>hamlet</em>?"
   ]
  },
  {
   "cell_type": "code",
   "execution_count": 26,
   "metadata": {
    "collapsed": false
   },
   "outputs": [
    {
     "data": {
      "text/plain": [
       "367"
      ]
     },
     "execution_count": 26,
     "metadata": {},
     "output_type": "execute_result"
    }
   ],
   "source": [
    "tmp = words.filter(lambda x: \"hamlet\" in x.lower())\n",
    "tmp.count()"
   ]
  },
  {
   "cell_type": "markdown",
   "metadata": {},
   "source": [
    "As a percent?"
   ]
  },
  {
   "cell_type": "code",
   "execution_count": 27,
   "metadata": {
    "collapsed": false
   },
   "outputs": [
    {
     "data": {
      "text/plain": [
       "'7.26%'"
      ]
     },
     "execution_count": 27,
     "metadata": {},
     "output_type": "execute_result"
    }
   ],
   "source": [
    "'{0:0.2f}%'.format(100*tmp.count()/float(words.count()))"
   ]
  },
  {
   "cell_type": "markdown",
   "metadata": {},
   "source": [
    "How about <em>claudius</em> and <em>hamlet</em>?"
   ]
  },
  {
   "cell_type": "code",
   "execution_count": 28,
   "metadata": {
    "collapsed": false
   },
   "outputs": [
    {
     "data": {
      "text/plain": [
       "12"
      ]
     },
     "execution_count": 28,
     "metadata": {},
     "output_type": "execute_result"
    }
   ],
   "source": [
    "tmp.filter( lambda x: 'claudius' in x.lower()).count()"
   ]
  },
  {
   "cell_type": "code",
   "execution_count": 29,
   "metadata": {
    "collapsed": false
   },
   "outputs": [
    {
     "data": {
      "text/plain": [
       "['\\t[Enter KING CLAUDIUS, QUEEN GERTRUDE, HAMLET,',\n",
       " \"KING CLAUDIUS\\tThough yet of Hamlet our dear brother's death\",\n",
       " \"KING CLAUDIUS\\t'Tis sweet and commendable in your nature, Hamlet,\",\n",
       " 'KING CLAUDIUS\\tHow fares our cousin Hamlet?',\n",
       " 'KING CLAUDIUS\\tI have nothing with this answer, Hamlet; these words',\n",
       " 'KING CLAUDIUS\\tWhat, Gertrude? How does Hamlet?',\n",
       " \"KING CLAUDIUS\\tNow, Hamlet, where's Polonius?\",\n",
       " 'KING CLAUDIUS\\tHamlet, this deed, for thine especial safety,--',\n",
       " 'KING CLAUDIUS\\tAy, Hamlet.',\n",
       " 'KING CLAUDIUS\\tThy loving father, Hamlet.',\n",
       " 'KING CLAUDIUS\\tFrom Hamlet! who brought them?',\n",
       " \"KING CLAUDIUS\\t'Tis Hamlets character. 'Naked!\"]"
      ]
     },
     "execution_count": 29,
     "metadata": {},
     "output_type": "execute_result"
    }
   ],
   "source": [
    "tmp.filter( lambda x: 'claudius' in x.lower()).collect()"
   ]
  },
  {
   "cell_type": "markdown",
   "metadata": {},
   "source": [
    "## Run word count for Beowulf filtering out words whose length is less than 5"
   ]
  },
  {
   "cell_type": "code",
   "execution_count": null,
   "metadata": {
    "collapsed": false
   },
   "outputs": [],
   "source": [
    "words = sc.textFile('beowulf.txt')\\\n",
    "        .flatMap(lambda line: re.split('\\W+', line.lower().strip()))\\\n",
    "        .filter(lambda x: <fill in> )\\\n",
    "        .map(lambda word: <fill in>)\\\n",
    "        .reduceByKey(lambda a, b: <fill in>)\\\n",
    "        .map(lambda x: <fill in>).sortByKey(False)   \n",
    "\n",
    "words.take(15)\n",
    "\n"
   ]
  },
  {
   "cell_type": "code",
   "execution_count": null,
   "metadata": {
    "collapsed": false
   },
   "outputs": [],
   "source": [
    "tmp = words.map(lambda x: (x[1], x[0]))\n",
    "tmp.take(20)\n",
    "plot(tmp.take(15))"
   ]
  },
  {
   "cell_type": "code",
   "execution_count": null,
   "metadata": {
    "collapsed": true
   },
   "outputs": [],
   "source": []
  }
 ],
 "metadata": {
  "kernelspec": {
   "display_name": "Python 3",
   "language": "python",
   "name": "python3"
  },
  "language_info": {
   "codemirror_mode": {
    "name": "ipython",
    "version": 3
   },
   "file_extension": ".py",
   "mimetype": "text/x-python",
   "name": "python",
   "nbconvert_exporter": "python",
   "pygments_lexer": "ipython3",
   "version": "3.5.2"
  }
 },
 "nbformat": 4,
 "nbformat_minor": 0
}
