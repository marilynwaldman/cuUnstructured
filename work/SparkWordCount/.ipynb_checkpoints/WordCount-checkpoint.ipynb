{
 "cells": [
  {
   "cell_type": "code",
   "execution_count": 25,
   "metadata": {},
   "outputs": [
    {
     "data": {
      "text/plain": [
       "[343, 415, 447, 316, 210]"
      ]
     },
     "execution_count": 25,
     "metadata": {},
     "output_type": "execute_result"
    }
   ],
   "source": [
    "import pyspark\n",
    "\n",
    "# do something to prove it sc works\n",
    "\n",
    "rdd = sc.parallelize(range(1000))\n",
    "rdd.takeSample(False, 5)\n",
    "\n"
   ]
  },
  {
   "cell_type": "markdown",
   "metadata": {},
   "source": [
    "# Word Count"
   ]
  },
  {
   "cell_type": "markdown",
   "metadata": {},
   "source": [
    "## Spark"
   ]
  },
  {
   "cell_type": "code",
   "execution_count": 23,
   "metadata": {},
   "outputs": [
    {
     "data": {
      "text/plain": [
       "['\\tHAMLET', '', '', '\\tDRAMATIS PERSONAE', '']"
      ]
     },
     "execution_count": 23,
     "metadata": {},
     "output_type": "execute_result"
    }
   ],
   "source": [
    "#Create an rdd by reading a file\n",
    "lines = sc.textFile('hamlet.txt')\n",
    "lines.take(5)"
   ]
  },
  {
   "cell_type": "markdown",
   "metadata": {},
   "source": [
    "##Using Regular Expression\n",
    "\n",
    "re.split('\\W+', 'Dogs, cats, birds.')\n",
    "['Dogs', 'cats', 'birds', '']"
   ]
  },
  {
   "cell_type": "code",
   "execution_count": null,
   "metadata": {},
   "outputs": [],
   "source": [
    "#import the regular expression library\n",
    "import re\n",
    "hamlet = lines.flatMap(lambda line: re.split('\\W+', line.lower().strip()))\n",
    "hamlet.take(5)"
   ]
  },
  {
   "cell_type": "code",
   "execution_count": null,
   "metadata": {},
   "outputs": [],
   "source": [
    "hamlet = hamlet.filter(lambda x: len(x) > 2 )\n",
    "print hamlet.take(5)"
   ]
  },
  {
   "cell_type": "code",
   "execution_count": null,
   "metadata": {},
   "outputs": [],
   "source": [
    "hamletTuple = hamlet.map(lambda word: (word, 1))\n",
    "hamletTuple.take(5)"
   ]
  },
  {
   "cell_type": "code",
   "execution_count": null,
   "metadata": {},
   "outputs": [],
   "source": [
    "hamletWordCount = hamletTuple.reduceByKey(lambda a, b: a + b)\n",
    "hamletWordCount.take(5)"
   ]
  },
  {
   "cell_type": "markdown",
   "metadata": {},
   "source": [
    "sortByKey([ascending], [numTasks])\tWhen called on a dataset of (K, V) pairs where K implements Ordered, returns a dataset of (K, V) pairs sorted by keys in ascending or descending order, as specified in the boolean ascending argument."
   ]
  },
  {
   "cell_type": "code",
   "execution_count": null,
   "metadata": {},
   "outputs": [],
   "source": [
    "decending = hamletWordCount.map(lambda x: (x[1], x[0])).sortByKey(False)\n",
    "decending.take(20)"
   ]
  },
  {
   "cell_type": "code",
   "execution_count": null,
   "metadata": {},
   "outputs": [],
   "source": [
    "tmp = decending.map(lambda x: (x[1], x[0]))\n",
    "tmp.take(20)"
   ]
  },
  {
   "cell_type": "code",
   "execution_count": 19,
   "metadata": {},
   "outputs": [],
   "source": [
    "%matplotlib inline\n",
    "import matplotlib.pyplot as plt\n",
    "\n",
    "def plot(words):\n",
    "    values = list(map(lambda x: x[1], words))\n",
    "    labels = list(map(lambda x: x[0], words))\n",
    "    plt.barh(range(len(values)), values, color='grey')\n",
    "    plt.yticks(range(len(values)), labels)\n",
    "    plt.show()"
   ]
  },
  {
   "cell_type": "code",
   "execution_count": null,
   "metadata": {},
   "outputs": [],
   "source": [
    "plot(tmp.take(15))"
   ]
  },
  {
   "cell_type": "markdown",
   "metadata": {},
   "source": [
    "## Summary code"
   ]
  },
  {
   "cell_type": "code",
   "execution_count": 11,
   "metadata": {},
   "outputs": [
    {
     "data": {
      "text/plain": [
       "[(930, 'the'),\n",
       " (843, 'and'),\n",
       " (496, 'you'),\n",
       " (368, 'hamlet'),\n",
       " (346, 'that'),\n",
       " (278, 'lord'),\n",
       " (262, 'not'),\n",
       " (238, 'his'),\n",
       " (238, 'this'),\n",
       " (232, 'but'),\n",
       " (232, 'with'),\n",
       " (215, 'for'),\n",
       " (211, 'your'),\n",
       " (186, 'what'),\n",
       " (171, 'king')]"
      ]
     },
     "execution_count": 11,
     "metadata": {},
     "output_type": "execute_result"
    }
   ],
   "source": [
    "words = sc.textFile('hamlet.txt')\\\n",
    "        .flatMap(lambda line: re.split('\\W+', line.lower().strip()))\\\n",
    "        .filter(lambda x: len(x) > 2 )\\\n",
    "        .map(lambda word: (word, 1))\\\n",
    "        .reduceByKey(lambda a, b: a + b)\\\n",
    "        .map(lambda x: (x[1], x[0])).sortByKey(False)   \n",
    "\n",
    "words.take(15)"
   ]
  },
  {
   "cell_type": "markdown",
   "metadata": {},
   "source": [
    "## Text filtering"
   ]
  },
  {
   "cell_type": "code",
   "execution_count": 12,
   "metadata": {},
   "outputs": [],
   "source": [
    "words = sc.textFile('hamlet.txt')"
   ]
  },
  {
   "cell_type": "markdown",
   "metadata": {},
   "source": [
    "How many lines contains <em>hamlet</em>?"
   ]
  },
  {
   "cell_type": "code",
   "execution_count": 13,
   "metadata": {},
   "outputs": [
    {
     "data": {
      "text/plain": [
       "367"
      ]
     },
     "execution_count": 13,
     "metadata": {},
     "output_type": "execute_result"
    }
   ],
   "source": [
    "tmp = words.filter(lambda x: \"hamlet\" in x.lower())\n",
    "tmp.count()"
   ]
  },
  {
   "cell_type": "markdown",
   "metadata": {},
   "source": [
    "As a percent?"
   ]
  },
  {
   "cell_type": "code",
   "execution_count": 14,
   "metadata": {},
   "outputs": [
    {
     "data": {
      "text/plain": [
       "'7.26%'"
      ]
     },
     "execution_count": 14,
     "metadata": {},
     "output_type": "execute_result"
    }
   ],
   "source": [
    "'{0:0.2f}%'.format(100*tmp.count()/float(words.count()))"
   ]
  },
  {
   "cell_type": "markdown",
   "metadata": {},
   "source": [
    "How about <em>claudius</em> and <em>hamlet</em>?"
   ]
  },
  {
   "cell_type": "code",
   "execution_count": 15,
   "metadata": {},
   "outputs": [
    {
     "data": {
      "text/plain": [
       "12"
      ]
     },
     "execution_count": 15,
     "metadata": {},
     "output_type": "execute_result"
    }
   ],
   "source": [
    "tmp.filter( lambda x: 'claudius' in x.lower()).count()"
   ]
  },
  {
   "cell_type": "code",
   "execution_count": 16,
   "metadata": {},
   "outputs": [
    {
     "data": {
      "text/plain": [
       "['\\t[Enter KING CLAUDIUS, QUEEN GERTRUDE, HAMLET,',\n",
       " \"KING CLAUDIUS\\tThough yet of Hamlet our dear brother's death\",\n",
       " \"KING CLAUDIUS\\t'Tis sweet and commendable in your nature, Hamlet,\",\n",
       " 'KING CLAUDIUS\\tHow fares our cousin Hamlet?',\n",
       " 'KING CLAUDIUS\\tI have nothing with this answer, Hamlet; these words',\n",
       " 'KING CLAUDIUS\\tWhat, Gertrude? How does Hamlet?',\n",
       " \"KING CLAUDIUS\\tNow, Hamlet, where's Polonius?\",\n",
       " 'KING CLAUDIUS\\tHamlet, this deed, for thine especial safety,--',\n",
       " 'KING CLAUDIUS\\tAy, Hamlet.',\n",
       " 'KING CLAUDIUS\\tThy loving father, Hamlet.',\n",
       " 'KING CLAUDIUS\\tFrom Hamlet! who brought them?',\n",
       " \"KING CLAUDIUS\\t'Tis Hamlets character. 'Naked!\"]"
      ]
     },
     "execution_count": 16,
     "metadata": {},
     "output_type": "execute_result"
    }
   ],
   "source": [
    "tmp.filter( lambda x: 'claudius' in x.lower()).collect()"
   ]
  },
  {
   "cell_type": "markdown",
   "metadata": {},
   "source": [
    "## Run word count for Beowulf filtering out words whose length is less than 5"
   ]
  },
  {
   "cell_type": "code",
   "execution_count": 17,
   "metadata": {},
   "outputs": [
    {
     "data": {
      "text/plain": [
       "[(290, 'beowulf'),\n",
       " (143, 'hrothgar'),\n",
       " (140, 'battle'),\n",
       " (115, 'grendel'),\n",
       " (93, 'gutenberg'),\n",
       " (90, 'sword'),\n",
       " (89, 'project'),\n",
       " (89, 'their'),\n",
       " (80, 'there'),\n",
       " (78, 'would'),\n",
       " (72, 'spirit'),\n",
       " (71, 'under'),\n",
       " (70, 'heroes'),\n",
       " (69, 'higelac'),\n",
       " (67, 'death')]"
      ]
     },
     "execution_count": 17,
     "metadata": {},
     "output_type": "execute_result"
    }
   ],
   "source": [
    "words = sc.textFile('beowulf.txt')\\\n",
    "        .flatMap(lambda line: re.split('\\W+', line.lower().strip()))\\\n",
    "        .filter(lambda word: len(word) >= 5 )\\\n",
    "        .map(lambda word: (word, 1))\\\n",
    "        .reduceByKey(lambda a, b: a + b)\\\n",
    "        .map(lambda x: (x[1], x[0])).sortByKey(False)    \n",
    "\n",
    "words.take(15)\n",
    "\n"
   ]
  },
  {
   "cell_type": "code",
   "execution_count": 20,
   "metadata": {},
   "outputs": [
    {
     "data": {
      "image/png": "[encoded data removed]",
      "text/plain": [
       "<Figure size 432x288 with 1 Axes>"
      ]
     },
     "metadata": {
      "needs_background": "light"
     },
     "output_type": "display_data"
    }
   ],
   "source": [
    "tmp = words.map(lambda x: (x[1], x[0]))\n",
    "tmp.take(20)\n",
    "plot(tmp.take(15))"
   ]
  },
  {
   "cell_type": "code",
   "execution_count": null,
   "metadata": {},
   "outputs": [],
   "source": []
  }
 ],
 "metadata": {
  "kernelspec": {
   "display_name": "Python 3",
   "language": "python",
   "name": "python3"
  },
  "language_info": {
   "codemirror_mode": {
    "name": "ipython",
    "version": 3
   },
   "file_extension": ".py",
   "mimetype": "text/x-python",
   "name": "python",
   "nbconvert_exporter": "python",
   "pygments_lexer": "ipython3",
   "version": "3.6.6"
  }
 },
 "nbformat": 4,
 "nbformat_minor": 1
}
