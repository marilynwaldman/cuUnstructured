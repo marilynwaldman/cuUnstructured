{
 "cells": [
  {
   "cell_type": "code",
   "execution_count": 1,
   "metadata": {
    "collapsed": false
   },
   "outputs": [
    {
     "data": {
      "text/plain": [
       "[340, 63, 612, 839, 598]"
      ]
     },
     "execution_count": 1,
     "metadata": {},
     "output_type": "execute_result"
    }
   ],
   "source": [
    "import pyspark\n",
    "sc = pyspark.SparkContext('local[*]')\n",
    "\n",
    "# do something to prove it worksC\n",
    "rdd = sc.parallelize(range(1000))\n",
    "rdd.takeSample(False, 5)\n",
    "\n"
   ]
  },
  {
   "cell_type": "code",
   "execution_count": 2,
   "metadata": {
    "collapsed": false
   },
   "outputs": [
    {
     "name": "stdout",
     "output_type": "stream",
     "text": [
      "300\n",
      "['in24.inetnebr.com - - 01/Aug/1995:00:00:01 -0400 \"GET /shuttle/missions/sts-68/news/sts-68-mcc-05.txt HTTP/1.0\" 200 1839', 'uplherc.upl.com - - 01/Aug/1995:00:00:07 -0400 \"GET / HTTP/1.0\" 304 0']\n"
     ]
    }
   ],
   "source": [
    "import sys\n",
    "import os\n",
    "\n",
    "fileName = 'logfile.txt'\n",
    "\n",
    "\"\"\" Read and parse log file \"\"\"\n",
    "parsedLogs = sc.textFile(fileName)\n",
    "         \n",
    "print (parsedLogs.count())\n",
    "print (parsedLogs.take(2))"
   ]
  },
  {
   "cell_type": "code",
   "execution_count": 3,
   "metadata": {
    "collapsed": false
   },
   "outputs": [
    {
     "name": "stdout",
     "output_type": "stream",
     "text": [
      "['in24.inetnebr.com - - 01/Aug/1995:00:00:01 -0400 \"GET /shuttle/missions/sts-68/news/sts-68-mcc-05.txt HTTP/1.0\" 200 1839', 'uplherc.upl.com - - 01/Aug/1995:00:00:07 -0400 \"GET / HTTP/1.0\" 304 0']\n",
      "150\n"
     ]
    }
   ],
   "source": [
    "#break into words\n",
    "linesWithGET = parsedLogs.filter(lambda line: \"GET\" in line)\n",
    "print (linesWithGET.take(2))\n",
    "print (linesWithGET.count())"
   ]
  },
  {
   "cell_type": "code",
   "execution_count": 4,
   "metadata": {
    "collapsed": false
   },
   "outputs": [
    {
     "name": "stdout",
     "output_type": "stream",
     "text": [
      "[['in24.inetnebr.com', '-', '-', '01/Aug/1995:00:00:01', '-0400', '\"GET', '/shuttle/missions/sts-68/news/sts-68-mcc-05.txt', 'HTTP/1.0\"', '200', '1839'], ['uplherc.upl.com', '-', '-', '01/Aug/1995:00:00:07', '-0400', '\"GET', '/', 'HTTP/1.0\"', '304', '0']]\n"
     ]
    }
   ],
   "source": [
    "#create an list of words for each line\n",
    "words = linesWithGET.map(lambda line: line.split(\" \"))\n",
    "print (words.take(2))\n"
   ]
  },
  {
   "cell_type": "code",
   "execution_count": 5,
   "metadata": {
    "collapsed": false
   },
   "outputs": [
    {
     "name": "stdout",
     "output_type": "stream",
     "text": [
      "[('in24.inetnebr.com', '-', '-', '01/Aug/1995:00:00:01', '-0400', '\"GET', '/shuttle/missions/sts-68/news/sts-68-mcc-05.txt', 'HTTP/1.0\"', '200', '1839')]\n"
     ]
    }
   ],
   "source": [
    "#break out each word of the line\n",
    "lineElements = words.map(lambda line: (line[0], line[1], line[2], line[3], line[4], line[5], line[6], line[7],line[8],line[9]))\n",
    "print (lineElements.take(1))\n"
   ]
  },
  {
   "cell_type": "code",
   "execution_count": 6,
   "metadata": {
    "collapsed": false
   },
   "outputs": [
    {
     "name": "stdout",
     "output_type": "stream",
     "text": [
      "['200', '304', '304', '304', '304', '200', '304', '200', '200', '200', '200', '200', '200', '304', '200', '200', '200', '200', '200', '200', '304', '304', '304', '304', '200', '200', '200', '200', '200', '200', '200', '200', '200', '200', '200', '200', '200', '200', '200', '200', '200', '200', '200', '200', '200', '200', '200', '302', '200', '200', '200', '200', '200', '200', '200', '200', '200', '200', '200', '200', '200', '200', '200', '200', '200', '200', '200', '200', '200', '200', '200', '200', '200', '200', '200', '200', '200', '200', '200', '200', '200', '200', '200', '200', '200', '200', '200', '200', '200', '200', '200', '304', '200', '304', '304', '200', '304', '200', '304', '304', '200', '304', '200', '200', '200', '200', '304', '302', '200', '200', '200', '200', '304', '200', '200', '200', '304', '304', '200', '200', '200', '200', '302', '200', '304', '304', '200', '200', '200', '200', '200', '200', '200', '200', '200', '200', '304', '200', '304', '304', '304', '304', '304', '200', '200', '200', '304', '200', '200', '200']\n"
     ]
    }
   ],
   "source": [
    "#filter out return codes \n",
    "returnCodes = lineElements.map(lambda line : line[8])\n",
    "print (returnCodes.collect())\n"
   ]
  },
  {
   "cell_type": "code",
   "execution_count": 7,
   "metadata": {
    "collapsed": false
   },
   "outputs": [
    {
     "ename": "SyntaxError",
     "evalue": "invalid syntax (<ipython-input-7-d0cdeb534d0d>, line 2)",
     "output_type": "error",
     "traceback": [
      "\u001b[0;36m  File \u001b[0;32m\"<ipython-input-7-d0cdeb534d0d>\"\u001b[0;36m, line \u001b[0;32m2\u001b[0m\n\u001b[0;31m    print returnCodes.distinct().collect()\u001b[0m\n\u001b[0m                    ^\u001b[0m\n\u001b[0;31mSyntaxError\u001b[0m\u001b[0;31m:\u001b[0m invalid syntax\n"
     ]
    }
   ],
   "source": [
    "#print distinct return codes\n",
    "print returnCodes.distinct().collect()"
   ]
  },
  {
   "cell_type": "code",
   "execution_count": null,
   "metadata": {
    "collapsed": false
   },
   "outputs": [],
   "source": [
    "from pyspark.sql import Row\n",
    "                           \n",
    "\n",
    "def parseApacheLogLine(logline):\n",
    "    return Row(\n",
    "        host          = logline[0],\n",
    "        client_identd = logline[1],\n",
    "        user_id       = logline[2],\n",
    "        date_time     = logline[3],\n",
    "        status_co     = int(logline[4]),\n",
    "        method        = logline[5],\n",
    "        endpoint      = logline[6],\n",
    "        protocol      = logline[7],\n",
    "        response_code = int(logline[8]),\n",
    "        content_size  = int(logline[9]))\n",
    "\n",
    " "
   ]
  },
  {
   "cell_type": "code",
   "execution_count": null,
   "metadata": {
    "collapsed": false
   },
   "outputs": [],
   "source": [
    "sqlRows = lineElements.map(lambda line: parseApacheLogLine(line))\n",
    "print (lineElements.take(1))\n",
    "print (sqlRows.take(1))\n",
    "print (sqlRows.count())\n"
   ]
  },
  {
   "cell_type": "code",
   "execution_count": null,
   "metadata": {
    "collapsed": false
   },
   "outputs": [],
   "source": [
    "not200 = sqlRows.filter(lambda log: log.response_code != 200)\n",
    "print (not200.count())"
   ]
  },
  {
   "cell_type": "code",
   "execution_count": null,
   "metadata": {
    "collapsed": false
   },
   "outputs": [],
   "source": [
    "# TODO: Replace <FILL IN> with appropriate code\n",
    "\n",
    "badRecords = sqlRows.<FILL IN>\n",
    "              \n",
    "print ('Found %d 404 URLs' % badRecords.count())"
   ]
  }
 ],
 "metadata": {
  "kernelspec": {
   "display_name": "Python 3",
   "language": "python",
   "name": "python3"
  },
  "language_info": {
   "codemirror_mode": {
    "name": "ipython",
    "version": 3
   },
   "file_extension": ".py",
   "mimetype": "text/x-python",
   "name": "python",
   "nbconvert_exporter": "python",
   "pygments_lexer": "ipython3",
   "version": "3.5.2"
  }
 },
 "nbformat": 4,
 "nbformat_minor": 0
}
