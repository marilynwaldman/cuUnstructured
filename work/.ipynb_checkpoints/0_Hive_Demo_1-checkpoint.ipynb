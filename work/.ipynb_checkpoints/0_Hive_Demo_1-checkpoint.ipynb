{
 "cells": [
  {
   "cell_type": "markdown",
   "metadata": {},
   "source": [
    "We have precreated database `stackoverflow_`. Firstly, investigate it. What tables does it has?"
   ]
  },
  {
   "cell_type": "code",
   "execution_count": 1,
   "metadata": {},
   "outputs": [
    {
     "name": "stdout",
     "output_type": "stream",
     "text": [
      "\n",
      "Logging initialized using configuration in jar:file:/opt/cloudera/parcels/CDH-5.11.0-1.cdh5.11.0.p0.34/jars/hive-common-1.1.0-cdh5.11.0.jar!/hive-log4j.properties\n",
      "OK\n",
      "Time taken: 1.139 seconds\n",
      "OK\n",
      "posts\n",
      "users\n",
      "Time taken: 0.184 seconds, Fetched: 2 row(s)\n"
     ]
    }
   ],
   "source": [
    "! hive --database stackoverflow_ -e 'show tables'"
   ]
  },
  {
   "cell_type": "markdown",
   "metadata": {},
   "source": [
    "###### Querying to the database"
   ]
  },
  {
   "cell_type": "markdown",
   "metadata": {},
   "source": [
    "Add necessary JAR-files."
   ]
  },
  {
   "cell_type": "code",
   "execution_count": 2,
   "metadata": {},
   "outputs": [
    {
     "name": "stdout",
     "output_type": "stream",
     "text": [
      "Overwriting query.hql\n"
     ]
    }
   ],
   "source": [
    "%%writefile query.hql\n",
    "\n",
    "ADD JAR /opt/cloudera/parcels/CDH/lib/hive/lib/hive-contrib.jar;\n",
    "ADD JAR /opt/cloudera/parcels/CDH/lib/hive/lib/hive-serde.jar;"
   ]
  },
  {
   "cell_type": "markdown",
   "metadata": {},
   "source": [
    "Include precreated database `stackoverflow_`."
   ]
  },
  {
   "cell_type": "code",
   "execution_count": 3,
   "metadata": {},
   "outputs": [
    {
     "name": "stdout",
     "output_type": "stream",
     "text": [
      "Appending to query.hql\n"
     ]
    }
   ],
   "source": [
    "%%writefile -a query.hql\n",
    "\n",
    "USE stackoverflow_;"
   ]
  },
  {
   "cell_type": "markdown",
   "metadata": {},
   "source": [
    "Then, write a simple query."
   ]
  },
  {
   "cell_type": "code",
   "execution_count": 4,
   "metadata": {},
   "outputs": [
    {
     "name": "stdout",
     "output_type": "stream",
     "text": [
      "Appending to query.hql\n"
     ]
    }
   ],
   "source": [
    "%%writefile -a query.hql\n",
    "\n",
    "SELECT * FROM posts LIMIT 10;\n",
    "SELECT * FROM users LIMIT 10;"
   ]
  },
  {
   "cell_type": "markdown",
   "metadata": {},
   "source": [
    "And finally, let's execute received `HiveQL`-file."
   ]
  },
  {
   "cell_type": "code",
   "execution_count": 5,
   "metadata": {},
   "outputs": [
    {
     "name": "stdout",
     "output_type": "stream",
     "text": [
      "\n",
      "Logging initialized using configuration in jar:file:/opt/cloudera/parcels/CDH-5.11.0-1.cdh5.11.0.p0.34/jars/hive-common-1.1.0-cdh5.11.0.jar!/hive-log4j.properties\n",
      "Added [/opt/cloudera/parcels/CDH/lib/hive/lib/hive-contrib.jar] to class path\n",
      "Added resources: [/opt/cloudera/parcels/CDH/lib/hive/lib/hive-contrib.jar]\n",
      "Added [/opt/cloudera/parcels/CDH/lib/hive/lib/hive-serde.jar] to class path\n",
      "Added resources: [/opt/cloudera/parcels/CDH/lib/hive/lib/hive-serde.jar]\n",
      "OK\n",
      "Time taken: 0.535 seconds\n",
      "OK\n",
      "1394\t2\t2008-08-04T16:38:03.667\t91\t1390\t16\tNULL\tNULL\t2008\t2008-08\n",
      "3543\t2\t2008-08-06T15:24:00.787\t399\t3530\t37\tNULL\tNULL\t2008\t2008-08\n",
      "4521\t2\t2008-08-07T08:22:27.440\t358\t66\t25\tNULL\tNULL\t2008\t2008-08\n",
      "8689\t2\t2008-08-12T11:23:28.733\t1087\t8685\t1\tNULL\tNULL\t2008\t2008-08\n",
      "9062\t2\t2008-08-12T17:20:41.993\t198\t6613\t1\tNULL\tNULL\t2008\t2008-08\n",
      "14671\t2\t2008-08-18T14:18:22.310\t414\t14577\t1\tNULL\tNULL\t2008\t2008-08\n",
      "16307\t2\t2008-08-19T14:45:07.997\t17\t16298\t2\tNULL\tNULL\t2008\t2008-08\n",
      "18780\t2\t2008-08-20T20:44:27.947\t414\t18772\t0\tNULL\tNULL\t2008\t2008-08\n",
      "18929\t2\t2008-08-20T21:49:23.203\t2031\t18912\t13\tNULL\tNULL\t2008\t2008-08\n",
      "19668\t2\t2008-08-21T11:56:00.593\t279\t19654\t4\tNULL\tNULL\t2008\t2008-08\n",
      "Time taken: 2.36 seconds, Fetched: 10 row(s)\n",
      "OK\n",
      "3613361\t1\t2014-05-07T17:53:00.437\tuser3613361\tNULL\t0\t0\t0\tNULL\t4438078\n",
      "3614346\t1\t2014-05-08T00:08:12.220\tuser3614346\tNULL\t0\t0\t0\tNULL\t4439444\n",
      "3614791\t1\t2014-05-08T04:21:36.333\tuser3614791\tNULL\t0\t0\t0\tNULL\t4440066\n",
      "3616831\t21\t2014-05-08T14:14:53.970\tKash\tNULL\t2\t0\t0\tNULL\t4442659\n",
      "3617059\t11\t2014-05-08T15:08:19.583\tuser3617059\tNULL\t1\t0\t0\tNULL\t4442942\n",
      "3620116\t1\t2014-05-09T11:01:48.407\tleomarques\tLondon, United Kingdom\t0\t0\t0\tNULL\t4447126\n",
      "3621067\t1\t2014-05-09T15:48:04.233\tuser3621067\tNULL\t0\t0\t0\tNULL\t4448375\n",
      "3622497\t70\t2014-05-10T04:14:45.883\tEzekiel Kuo\tNULL\t10\t5\t0\tNULL\t4450427\n",
      "3622579\t1\t2014-05-10T05:17:02.307\tuser3622579\tNULL\t0\t0\t0\tNULL\t4450549\n",
      "3622972\t1\t2014-05-10T09:40:35.590\tuser3622972\tNULL\t0\t0\t0\tNULL\t4451128\n",
      "Time taken: 0.08 seconds, Fetched: 10 row(s)\n",
      "WARN: The method class org.apache.commons.logging.impl.SLF4JLogFactory#release() was invoked.\n",
      "WARN: Please see http://www.slf4j.org/codes.html#release for an explanation.\n"
     ]
    }
   ],
   "source": [
    "! hive -f query.hql"
   ]
  }
 ],
 "metadata": {
  "kernelspec": {
   "display_name": "Python 2",
   "language": "python",
   "name": "python2"
  },
  "language_info": {
   "codemirror_mode": {
    "name": "ipython",
    "version": 2
   },
   "file_extension": ".py",
   "mimetype": "text/x-python",
   "name": "python",
   "nbconvert_exporter": "python",
   "pygments_lexer": "ipython2",
   "version": "2.7.12"
  }
 },
 "nbformat": 4,
 "nbformat_minor": 2
}
